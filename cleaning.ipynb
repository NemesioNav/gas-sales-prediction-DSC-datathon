{
  "nbformat": 4,
  "nbformat_minor": 0,
  "metadata": {
    "colab": {
      "name": "cleaning.ipynb",
      "provenance": [],
      "collapsed_sections": []
    },
    "kernelspec": {
      "name": "python3",
      "display_name": "Python 3"
    },
    "language_info": {
      "name": "python"
    }
  },
  "cells": [
    {
      "cell_type": "markdown",
      "source": [
        "# TODOGAS CHALLENGE - Cleaning and exploratory analysis"
      ],
      "metadata": {
        "id": "uGHHx2I-5kob"
      }
    },
    {
      "cell_type": "markdown",
      "source": [
        "## Setup"
      ],
      "metadata": {
        "id": "nOotvnas5q9Z"
      }
    },
    {
      "cell_type": "code",
      "execution_count": 1,
      "metadata": {
        "id": "mpWq2kUJgqU4"
      },
      "outputs": [],
      "source": [
        "import pandas as pd\n",
        "import numpy as np\n",
        "import matplotlib.pyplot as plt"
      ]
    },
    {
      "cell_type": "code",
      "source": [
        "from google.colab import drive\n",
        "drive.mount(\"/content/drive\")"
      ],
      "metadata": {
        "colab": {
          "base_uri": "https://localhost:8080/"
        },
        "id": "w_uqmH5xhkCE",
        "outputId": "3012c6b5-337d-48bd-b5fc-61bd1c846570"
      },
      "execution_count": 2,
      "outputs": [
        {
          "output_type": "stream",
          "name": "stdout",
          "text": [
            "Drive already mounted at /content/drive; to attempt to forcibly remount, call drive.mount(\"/content/drive\", force_remount=True).\n"
          ]
        }
      ]
    },
    {
      "cell_type": "code",
      "source": [
        "df_completo = pd.read_csv('/content/drive/Shareddrives/Datathon 2022/all_years_filtered_2022.csv')\n",
        "df=df_completo"
      ],
      "metadata": {
        "id": "RYUHMnMgg6HN"
      },
      "execution_count": 3,
      "outputs": []
    },
    {
      "cell_type": "code",
      "source": [
        "# Dimensions\n",
        "df_completo.shape"
      ],
      "metadata": {
        "colab": {
          "base_uri": "https://localhost:8080/"
        },
        "id": "eKSmFXAKpz6H",
        "outputId": "8e03c5f1-f0d0-4635-d5a0-9b1ca5fd6e19"
      },
      "execution_count": 4,
      "outputs": [
        {
          "output_type": "execute_result",
          "data": {
            "text/plain": [
              "(12866316, 14)"
            ]
          },
          "metadata": {},
          "execution_count": 4
        }
      ]
    },
    {
      "cell_type": "code",
      "source": [
        "# Number of municipalities\n",
        "len(df['Filial'].unique())"
      ],
      "metadata": {
        "colab": {
          "base_uri": "https://localhost:8080/"
        },
        "id": "ocrpCADKiQnw",
        "outputId": "62b8e277-1203-49b2-9952-140b1d4c7d83"
      },
      "execution_count": 5,
      "outputs": [
        {
          "output_type": "execute_result",
          "data": {
            "text/plain": [
              "23"
            ]
          },
          "metadata": {},
          "execution_count": 5
        }
      ]
    },
    {
      "cell_type": "code",
      "source": [
        "# Drop columns\n",
        "df=df.drop(columns=['Unnamed: 0', 'Unnamed: 0.1', 'Empresa', '%Key_Folio','%Key_Cliente','%Key_Ticket'])\n",
        "df.head()"
      ],
      "metadata": {
        "colab": {
          "base_uri": "https://localhost:8080/",
          "height": 206
        },
        "id": "EbOw2pMThLer",
        "outputId": "ee53da2b-23a3-4922-9e1b-bea7db19ef9c"
      },
      "execution_count": 6,
      "outputs": [
        {
          "output_type": "execute_result",
          "data": {
            "text/plain": [
              "   Region                   Filial        Tipo Punto de venta %Key_FechaID  \\\n",
              "0       5  Álamo, Veracruz, México  Autotanque    ATQ. ALA 09   2019-09-15   \n",
              "1       5  Álamo, Veracruz, México  Autotanque    ATQ. ALA 08   2019-09-01   \n",
              "2       5  Álamo, Veracruz, México  Autotanque    ATQ. ALA 08   2019-09-02   \n",
              "3       5  Álamo, Veracruz, México  Autotanque    ATQ. ALA 08   2019-09-05   \n",
              "4       5  Álamo, Veracruz, México  Autotanque    ATQ. ALA 08   2019-09-06   \n",
              "\n",
              "   Litros      $  Tem_prom  \n",
              "0    16.0  131.0      24.9  \n",
              "1    15.0  120.0      24.9  \n",
              "2    12.0   92.0      24.9  \n",
              "3    13.0  105.0      24.9  \n",
              "4    13.0  105.0      24.9  "
            ],
            "text/html": [
              "\n",
              "  <div id=\"df-d32594e0-6af4-403d-b3ba-38811eba5b1b\">\n",
              "    <div class=\"colab-df-container\">\n",
              "      <div>\n",
              "<style scoped>\n",
              "    .dataframe tbody tr th:only-of-type {\n",
              "        vertical-align: middle;\n",
              "    }\n",
              "\n",
              "    .dataframe tbody tr th {\n",
              "        vertical-align: top;\n",
              "    }\n",
              "\n",
              "    .dataframe thead th {\n",
              "        text-align: right;\n",
              "    }\n",
              "</style>\n",
              "<table border=\"1\" class=\"dataframe\">\n",
              "  <thead>\n",
              "    <tr style=\"text-align: right;\">\n",
              "      <th></th>\n",
              "      <th>Region</th>\n",
              "      <th>Filial</th>\n",
              "      <th>Tipo</th>\n",
              "      <th>Punto de venta</th>\n",
              "      <th>%Key_FechaID</th>\n",
              "      <th>Litros</th>\n",
              "      <th>$</th>\n",
              "      <th>Tem_prom</th>\n",
              "    </tr>\n",
              "  </thead>\n",
              "  <tbody>\n",
              "    <tr>\n",
              "      <th>0</th>\n",
              "      <td>5</td>\n",
              "      <td>Álamo, Veracruz, México</td>\n",
              "      <td>Autotanque</td>\n",
              "      <td>ATQ. ALA 09</td>\n",
              "      <td>2019-09-15</td>\n",
              "      <td>16.0</td>\n",
              "      <td>131.0</td>\n",
              "      <td>24.9</td>\n",
              "    </tr>\n",
              "    <tr>\n",
              "      <th>1</th>\n",
              "      <td>5</td>\n",
              "      <td>Álamo, Veracruz, México</td>\n",
              "      <td>Autotanque</td>\n",
              "      <td>ATQ. ALA 08</td>\n",
              "      <td>2019-09-01</td>\n",
              "      <td>15.0</td>\n",
              "      <td>120.0</td>\n",
              "      <td>24.9</td>\n",
              "    </tr>\n",
              "    <tr>\n",
              "      <th>2</th>\n",
              "      <td>5</td>\n",
              "      <td>Álamo, Veracruz, México</td>\n",
              "      <td>Autotanque</td>\n",
              "      <td>ATQ. ALA 08</td>\n",
              "      <td>2019-09-02</td>\n",
              "      <td>12.0</td>\n",
              "      <td>92.0</td>\n",
              "      <td>24.9</td>\n",
              "    </tr>\n",
              "    <tr>\n",
              "      <th>3</th>\n",
              "      <td>5</td>\n",
              "      <td>Álamo, Veracruz, México</td>\n",
              "      <td>Autotanque</td>\n",
              "      <td>ATQ. ALA 08</td>\n",
              "      <td>2019-09-05</td>\n",
              "      <td>13.0</td>\n",
              "      <td>105.0</td>\n",
              "      <td>24.9</td>\n",
              "    </tr>\n",
              "    <tr>\n",
              "      <th>4</th>\n",
              "      <td>5</td>\n",
              "      <td>Álamo, Veracruz, México</td>\n",
              "      <td>Autotanque</td>\n",
              "      <td>ATQ. ALA 08</td>\n",
              "      <td>2019-09-06</td>\n",
              "      <td>13.0</td>\n",
              "      <td>105.0</td>\n",
              "      <td>24.9</td>\n",
              "    </tr>\n",
              "  </tbody>\n",
              "</table>\n",
              "</div>\n",
              "      <button class=\"colab-df-convert\" onclick=\"convertToInteractive('df-d32594e0-6af4-403d-b3ba-38811eba5b1b')\"\n",
              "              title=\"Convert this dataframe to an interactive table.\"\n",
              "              style=\"display:none;\">\n",
              "        \n",
              "  <svg xmlns=\"http://www.w3.org/2000/svg\" height=\"24px\"viewBox=\"0 0 24 24\"\n",
              "       width=\"24px\">\n",
              "    <path d=\"M0 0h24v24H0V0z\" fill=\"none\"/>\n",
              "    <path d=\"M18.56 5.44l.94 2.06.94-2.06 2.06-.94-2.06-.94-.94-2.06-.94 2.06-2.06.94zm-11 1L8.5 8.5l.94-2.06 2.06-.94-2.06-.94L8.5 2.5l-.94 2.06-2.06.94zm10 10l.94 2.06.94-2.06 2.06-.94-2.06-.94-.94-2.06-.94 2.06-2.06.94z\"/><path d=\"M17.41 7.96l-1.37-1.37c-.4-.4-.92-.59-1.43-.59-.52 0-1.04.2-1.43.59L10.3 9.45l-7.72 7.72c-.78.78-.78 2.05 0 2.83L4 21.41c.39.39.9.59 1.41.59.51 0 1.02-.2 1.41-.59l7.78-7.78 2.81-2.81c.8-.78.8-2.07 0-2.86zM5.41 20L4 18.59l7.72-7.72 1.47 1.35L5.41 20z\"/>\n",
              "  </svg>\n",
              "      </button>\n",
              "      \n",
              "  <style>\n",
              "    .colab-df-container {\n",
              "      display:flex;\n",
              "      flex-wrap:wrap;\n",
              "      gap: 12px;\n",
              "    }\n",
              "\n",
              "    .colab-df-convert {\n",
              "      background-color: #E8F0FE;\n",
              "      border: none;\n",
              "      border-radius: 50%;\n",
              "      cursor: pointer;\n",
              "      display: none;\n",
              "      fill: #1967D2;\n",
              "      height: 32px;\n",
              "      padding: 0 0 0 0;\n",
              "      width: 32px;\n",
              "    }\n",
              "\n",
              "    .colab-df-convert:hover {\n",
              "      background-color: #E2EBFA;\n",
              "      box-shadow: 0px 1px 2px rgba(60, 64, 67, 0.3), 0px 1px 3px 1px rgba(60, 64, 67, 0.15);\n",
              "      fill: #174EA6;\n",
              "    }\n",
              "\n",
              "    [theme=dark] .colab-df-convert {\n",
              "      background-color: #3B4455;\n",
              "      fill: #D2E3FC;\n",
              "    }\n",
              "\n",
              "    [theme=dark] .colab-df-convert:hover {\n",
              "      background-color: #434B5C;\n",
              "      box-shadow: 0px 1px 3px 1px rgba(0, 0, 0, 0.15);\n",
              "      filter: drop-shadow(0px 1px 2px rgba(0, 0, 0, 0.3));\n",
              "      fill: #FFFFFF;\n",
              "    }\n",
              "  </style>\n",
              "\n",
              "      <script>\n",
              "        const buttonEl =\n",
              "          document.querySelector('#df-d32594e0-6af4-403d-b3ba-38811eba5b1b button.colab-df-convert');\n",
              "        buttonEl.style.display =\n",
              "          google.colab.kernel.accessAllowed ? 'block' : 'none';\n",
              "\n",
              "        async function convertToInteractive(key) {\n",
              "          const element = document.querySelector('#df-d32594e0-6af4-403d-b3ba-38811eba5b1b');\n",
              "          const dataTable =\n",
              "            await google.colab.kernel.invokeFunction('convertToInteractive',\n",
              "                                                     [key], {});\n",
              "          if (!dataTable) return;\n",
              "\n",
              "          const docLinkHtml = 'Like what you see? Visit the ' +\n",
              "            '<a target=\"_blank\" href=https://colab.research.google.com/notebooks/data_table.ipynb>data table notebook</a>'\n",
              "            + ' to learn more about interactive tables.';\n",
              "          element.innerHTML = '';\n",
              "          dataTable['output_type'] = 'display_data';\n",
              "          await google.colab.output.renderOutput(dataTable, element);\n",
              "          const docLink = document.createElement('div');\n",
              "          docLink.innerHTML = docLinkHtml;\n",
              "          element.appendChild(docLink);\n",
              "        }\n",
              "      </script>\n",
              "    </div>\n",
              "  </div>\n",
              "  "
            ]
          },
          "metadata": {},
          "execution_count": 6
        }
      ]
    },
    {
      "cell_type": "code",
      "source": [
        "# Rename gas types\n",
        "df.loc[df['Tipo']=='Estacion de Carburacion', 'Tipo'] = 'EC'\n",
        "df.loc[df['Tipo']=='AtqGas', 'Tipo'] = 'Autotanque'"
      ],
      "metadata": {
        "id": "S0Inn_tDDPHh"
      },
      "execution_count": 7,
      "outputs": []
    },
    {
      "cell_type": "code",
      "source": [
        "df.isna().sum()"
      ],
      "metadata": {
        "colab": {
          "base_uri": "https://localhost:8080/"
        },
        "id": "PhS8obAXMyIt",
        "outputId": "62c97f19-7617-478f-a84d-e8120c665203"
      },
      "execution_count": 8,
      "outputs": [
        {
          "output_type": "execute_result",
          "data": {
            "text/plain": [
              "Region            0\n",
              "Filial            0\n",
              "Tipo              0\n",
              "Punto de venta    0\n",
              "%Key_FechaID      0\n",
              "Litros            0\n",
              "$                 0\n",
              "Tem_prom          0\n",
              "dtype: int64"
            ]
          },
          "metadata": {},
          "execution_count": 8
        }
      ]
    },
    {
      "cell_type": "code",
      "source": [
        "# Remove rows where liters = 0\n",
        "df = df.loc[df['Litros']!=0]"
      ],
      "metadata": {
        "id": "mNBF-mrCn3PQ"
      },
      "execution_count": 9,
      "outputs": []
    },
    {
      "cell_type": "code",
      "source": [
        "# Remove rows where $ = 0\n",
        "df = df.loc[df['$']!=0]"
      ],
      "metadata": {
        "id": "DFPHACiCpTs5"
      },
      "execution_count": 10,
      "outputs": []
    },
    {
      "cell_type": "code",
      "source": [
        "# Dimensions (with rows removed)\n",
        "df.shape"
      ],
      "metadata": {
        "colab": {
          "base_uri": "https://localhost:8080/"
        },
        "id": "XU0eNxW6puMD",
        "outputId": "f062f0c4-ca51-41c8-d59c-9a57c2be2153"
      },
      "execution_count": 11,
      "outputs": [
        {
          "output_type": "execute_result",
          "data": {
            "text/plain": [
              "(12603900, 8)"
            ]
          },
          "metadata": {},
          "execution_count": 11
        }
      ]
    },
    {
      "cell_type": "code",
      "source": [
        "# Correlation matrix\n",
        "import seaborn as sns\n",
        "plt.figure(figsize=(8,8))\n",
        "crrl=df.corr()\n",
        "sns.heatmap(crrl,annot=True).set_title('Correlación :D')\n",
        "plt.tight_layout()\n",
        "plt.show()"
      ],
      "metadata": {
        "colab": {
          "base_uri": "https://localhost:8080/",
          "height": 585
        },
        "id": "f4yd8HpMRxLD",
        "outputId": "9715d4ce-1f9e-408c-e131-5d6eb8674722"
      },
      "execution_count": 12,
      "outputs": [
        {
          "output_type": "display_data",
          "data": {
            "text/plain": [
              "<Figure size 576x576 with 2 Axes>"
            ],
            "image/png": "[encoded data removed]"
          },
          "metadata": {
            "needs_background": "light"
          }
        }
      ]
    },
    {
      "cell_type": "code",
      "source": [
        "# Variable $/liters\n",
        "df['Precio por Litro']=df['$']/df['Litros']"
      ],
      "metadata": {
        "id": "RIETAps-Texu"
      },
      "execution_count": 13,
      "outputs": []
    },
    {
      "cell_type": "code",
      "source": [
        "# Observe records for one day\n",
        "df.loc[df['%Key_FechaID']=='2019-09-01']"
      ],
      "metadata": {
        "colab": {
          "base_uri": "https://localhost:8080/",
          "height": 424
        },
        "id": "toM6fbb0dPFa",
        "outputId": "6548f2ad-4a65-4261-cbad-05c504969a38"
      },
      "execution_count": 14,
      "outputs": [
        {
          "output_type": "execute_result",
          "data": {
            "text/plain": [
              "        Region                      Filial        Tipo Punto de venta  \\\n",
              "1            5     Álamo, Veracruz, México  Autotanque    ATQ. ALA 08   \n",
              "29           5     Álamo, Veracruz, México  Autotanque    ATQ. ALA 08   \n",
              "107          5     Álamo, Veracruz, México  Autotanque    ATQ. ALA 09   \n",
              "108          5     Álamo, Veracruz, México  Autotanque    ATQ. ALA 09   \n",
              "109          5     Álamo, Veracruz, México  Autotanque    ATQ. ALA 09   \n",
              "...        ...                         ...         ...            ...   \n",
              "296576       4  Saltillo, Coahuila, México  Autotanque    ATQ. SAL 20   \n",
              "296577       4  Saltillo, Coahuila, México  Autotanque    ATQ. SAL 20   \n",
              "296578       4  Saltillo, Coahuila, México  Autotanque    ATQ. SAL 20   \n",
              "296579       4  Saltillo, Coahuila, México  Autotanque    ATQ. SAL 20   \n",
              "296580       4  Saltillo, Coahuila, México  Autotanque    ATQ. SAL 20   \n",
              "\n",
              "       %Key_FechaID  Litros      $  Tem_prom  Precio por Litro  \n",
              "1        2019-09-01    15.0  120.0      24.9          8.000000  \n",
              "29       2019-09-01    40.0  299.0      24.9          7.475000  \n",
              "107      2019-09-01    12.0   80.0      24.9          6.666667  \n",
              "108      2019-09-01    27.0  186.0      24.9          6.888889  \n",
              "109      2019-09-01    19.0  132.0      24.9          6.947368  \n",
              "...             ...     ...    ...       ...               ...  \n",
              "296576   2019-09-01     4.0   35.0      27.4          8.750000  \n",
              "296577   2019-09-01     2.0   21.0      27.4         10.500000  \n",
              "296578   2019-09-01     2.0   21.0      27.4         10.500000  \n",
              "296579   2019-09-01     3.0   23.0      27.4          7.666667  \n",
              "296580   2019-09-01     3.0   23.0      27.4          7.666667  \n",
              "\n",
              "[6969 rows x 9 columns]"
            ],
            "text/html": [
              "\n",
              "  <div id=\"df-c0500add-0ffb-433b-bbbb-00842074f2c9\">\n",
              "    <div class=\"colab-df-container\">\n",
              "      <div>\n",
              "<style scoped>\n",
              "    .dataframe tbody tr th:only-of-type {\n",
              "        vertical-align: middle;\n",
              "    }\n",
              "\n",
              "    .dataframe tbody tr th {\n",
              "        vertical-align: top;\n",
              "    }\n",
              "\n",
              "    .dataframe thead th {\n",
              "        text-align: right;\n",
              "    }\n",
              "</style>\n",
              "<table border=\"1\" class=\"dataframe\">\n",
              "  <thead>\n",
              "    <tr style=\"text-align: right;\">\n",
              "      <th></th>\n",
              "      <th>Region</th>\n",
              "      <th>Filial</th>\n",
              "      <th>Tipo</th>\n",
              "      <th>Punto de venta</th>\n",
              "      <th>%Key_FechaID</th>\n",
              "      <th>Litros</th>\n",
              "      <th>$</th>\n",
              "      <th>Tem_prom</th>\n",
              "      <th>Precio por Litro</th>\n",
              "    </tr>\n",
              "  </thead>\n",
              "  <tbody>\n",
              "    <tr>\n",
              "      <th>1</th>\n",
              "      <td>5</td>\n",
              "      <td>Álamo, Veracruz, México</td>\n",
              "      <td>Autotanque</td>\n",
              "      <td>ATQ. ALA 08</td>\n",
              "      <td>2019-09-01</td>\n",
              "      <td>15.0</td>\n",
              "      <td>120.0</td>\n",
              "      <td>24.9</td>\n",
              "      <td>8.000000</td>\n",
              "    </tr>\n",
              "    <tr>\n",
              "      <th>29</th>\n",
              "      <td>5</td>\n",
              "      <td>Álamo, Veracruz, México</td>\n",
              "      <td>Autotanque</td>\n",
              "      <td>ATQ. ALA 08</td>\n",
              "      <td>2019-09-01</td>\n",
              "      <td>40.0</td>\n",
              "      <td>299.0</td>\n",
              "      <td>24.9</td>\n",
              "      <td>7.475000</td>\n",
              "    </tr>\n",
              "    <tr>\n",
              "      <th>107</th>\n",
              "      <td>5</td>\n",
              "      <td>Álamo, Veracruz, México</td>\n",
              "      <td>Autotanque</td>\n",
              "      <td>ATQ. ALA 09</td>\n",
              "      <td>2019-09-01</td>\n",
              "      <td>12.0</td>\n",
              "      <td>80.0</td>\n",
              "      <td>24.9</td>\n",
              "      <td>6.666667</td>\n",
              "    </tr>\n",
              "    <tr>\n",
              "      <th>108</th>\n",
              "      <td>5</td>\n",
              "      <td>Álamo, Veracruz, México</td>\n",
              "      <td>Autotanque</td>\n",
              "      <td>ATQ. ALA 09</td>\n",
              "      <td>2019-09-01</td>\n",
              "      <td>27.0</td>\n",
              "      <td>186.0</td>\n",
              "      <td>24.9</td>\n",
              "      <td>6.888889</td>\n",
              "    </tr>\n",
              "    <tr>\n",
              "      <th>109</th>\n",
              "      <td>5</td>\n",
              "      <td>Álamo, Veracruz, México</td>\n",
              "      <td>Autotanque</td>\n",
              "      <td>ATQ. ALA 09</td>\n",
              "      <td>2019-09-01</td>\n",
              "      <td>19.0</td>\n",
              "      <td>132.0</td>\n",
              "      <td>24.9</td>\n",
              "      <td>6.947368</td>\n",
              "    </tr>\n",
              "    <tr>\n",
              "      <th>...</th>\n",
              "      <td>...</td>\n",
              "      <td>...</td>\n",
              "      <td>...</td>\n",
              "      <td>...</td>\n",
              "      <td>...</td>\n",
              "      <td>...</td>\n",
              "      <td>...</td>\n",
              "      <td>...</td>\n",
              "      <td>...</td>\n",
              "    </tr>\n",
              "    <tr>\n",
              "      <th>296576</th>\n",
              "      <td>4</td>\n",
              "      <td>Saltillo, Coahuila, México</td>\n",
              "      <td>Autotanque</td>\n",
              "      <td>ATQ. SAL 20</td>\n",
              "      <td>2019-09-01</td>\n",
              "      <td>4.0</td>\n",
              "      <td>35.0</td>\n",
              "      <td>27.4</td>\n",
              "      <td>8.750000</td>\n",
              "    </tr>\n",
              "    <tr>\n",
              "      <th>296577</th>\n",
              "      <td>4</td>\n",
              "      <td>Saltillo, Coahuila, México</td>\n",
              "      <td>Autotanque</td>\n",
              "      <td>ATQ. SAL 20</td>\n",
              "      <td>2019-09-01</td>\n",
              "      <td>2.0</td>\n",
              "      <td>21.0</td>\n",
              "      <td>27.4</td>\n",
              "      <td>10.500000</td>\n",
              "    </tr>\n",
              "    <tr>\n",
              "      <th>296578</th>\n",
              "      <td>4</td>\n",
              "      <td>Saltillo, Coahuila, México</td>\n",
              "      <td>Autotanque</td>\n",
              "      <td>ATQ. SAL 20</td>\n",
              "      <td>2019-09-01</td>\n",
              "      <td>2.0</td>\n",
              "      <td>21.0</td>\n",
              "      <td>27.4</td>\n",
              "      <td>10.500000</td>\n",
              "    </tr>\n",
              "    <tr>\n",
              "      <th>296579</th>\n",
              "      <td>4</td>\n",
              "      <td>Saltillo, Coahuila, México</td>\n",
              "      <td>Autotanque</td>\n",
              "      <td>ATQ. SAL 20</td>\n",
              "      <td>2019-09-01</td>\n",
              "      <td>3.0</td>\n",
              "      <td>23.0</td>\n",
              "      <td>27.4</td>\n",
              "      <td>7.666667</td>\n",
              "    </tr>\n",
              "    <tr>\n",
              "      <th>296580</th>\n",
              "      <td>4</td>\n",
              "      <td>Saltillo, Coahuila, México</td>\n",
              "      <td>Autotanque</td>\n",
              "      <td>ATQ. SAL 20</td>\n",
              "      <td>2019-09-01</td>\n",
              "      <td>3.0</td>\n",
              "      <td>23.0</td>\n",
              "      <td>27.4</td>\n",
              "      <td>7.666667</td>\n",
              "    </tr>\n",
              "  </tbody>\n",
              "</table>\n",
              "<p>6969 rows × 9 columns</p>\n",
              "</div>\n",
              "      <button class=\"colab-df-convert\" onclick=\"convertToInteractive('df-c0500add-0ffb-433b-bbbb-00842074f2c9')\"\n",
              "              title=\"Convert this dataframe to an interactive table.\"\n",
              "              style=\"display:none;\">\n",
              "        \n",
              "  <svg xmlns=\"http://www.w3.org/2000/svg\" height=\"24px\"viewBox=\"0 0 24 24\"\n",
              "       width=\"24px\">\n",
              "    <path d=\"M0 0h24v24H0V0z\" fill=\"none\"/>\n",
              "    <path d=\"M18.56 5.44l.94 2.06.94-2.06 2.06-.94-2.06-.94-.94-2.06-.94 2.06-2.06.94zm-11 1L8.5 8.5l.94-2.06 2.06-.94-2.06-.94L8.5 2.5l-.94 2.06-2.06.94zm10 10l.94 2.06.94-2.06 2.06-.94-2.06-.94-.94-2.06-.94 2.06-2.06.94z\"/><path d=\"M17.41 7.96l-1.37-1.37c-.4-.4-.92-.59-1.43-.59-.52 0-1.04.2-1.43.59L10.3 9.45l-7.72 7.72c-.78.78-.78 2.05 0 2.83L4 21.41c.39.39.9.59 1.41.59.51 0 1.02-.2 1.41-.59l7.78-7.78 2.81-2.81c.8-.78.8-2.07 0-2.86zM5.41 20L4 18.59l7.72-7.72 1.47 1.35L5.41 20z\"/>\n",
              "  </svg>\n",
              "      </button>\n",
              "      \n",
              "  <style>\n",
              "    .colab-df-container {\n",
              "      display:flex;\n",
              "      flex-wrap:wrap;\n",
              "      gap: 12px;\n",
              "    }\n",
              "\n",
              "    .colab-df-convert {\n",
              "      background-color: #E8F0FE;\n",
              "      border: none;\n",
              "      border-radius: 50%;\n",
              "      cursor: pointer;\n",
              "      display: none;\n",
              "      fill: #1967D2;\n",
              "      height: 32px;\n",
              "      padding: 0 0 0 0;\n",
              "      width: 32px;\n",
              "    }\n",
              "\n",
              "    .colab-df-convert:hover {\n",
              "      background-color: #E2EBFA;\n",
              "      box-shadow: 0px 1px 2px rgba(60, 64, 67, 0.3), 0px 1px 3px 1px rgba(60, 64, 67, 0.15);\n",
              "      fill: #174EA6;\n",
              "    }\n",
              "\n",
              "    [theme=dark] .colab-df-convert {\n",
              "      background-color: #3B4455;\n",
              "      fill: #D2E3FC;\n",
              "    }\n",
              "\n",
              "    [theme=dark] .colab-df-convert:hover {\n",
              "      background-color: #434B5C;\n",
              "      box-shadow: 0px 1px 3px 1px rgba(0, 0, 0, 0.15);\n",
              "      filter: drop-shadow(0px 1px 2px rgba(0, 0, 0, 0.3));\n",
              "      fill: #FFFFFF;\n",
              "    }\n",
              "  </style>\n",
              "\n",
              "      <script>\n",
              "        const buttonEl =\n",
              "          document.querySelector('#df-c0500add-0ffb-433b-bbbb-00842074f2c9 button.colab-df-convert');\n",
              "        buttonEl.style.display =\n",
              "          google.colab.kernel.accessAllowed ? 'block' : 'none';\n",
              "\n",
              "        async function convertToInteractive(key) {\n",
              "          const element = document.querySelector('#df-c0500add-0ffb-433b-bbbb-00842074f2c9');\n",
              "          const dataTable =\n",
              "            await google.colab.kernel.invokeFunction('convertToInteractive',\n",
              "                                                     [key], {});\n",
              "          if (!dataTable) return;\n",
              "\n",
              "          const docLinkHtml = 'Like what you see? Visit the ' +\n",
              "            '<a target=\"_blank\" href=https://colab.research.google.com/notebooks/data_table.ipynb>data table notebook</a>'\n",
              "            + ' to learn more about interactive tables.';\n",
              "          element.innerHTML = '';\n",
              "          dataTable['output_type'] = 'display_data';\n",
              "          await google.colab.output.renderOutput(dataTable, element);\n",
              "          const docLink = document.createElement('div');\n",
              "          docLink.innerHTML = docLinkHtml;\n",
              "          element.appendChild(docLink);\n",
              "        }\n",
              "      </script>\n",
              "    </div>\n",
              "  </div>\n",
              "  "
            ]
          },
          "metadata": {},
          "execution_count": 14
        }
      ]
    },
    {
      "cell_type": "code",
      "source": [
        "# Drop columns\n",
        "df=df.drop(columns=['Litros'])\n",
        "df.head()"
      ],
      "metadata": {
        "colab": {
          "base_uri": "https://localhost:8080/",
          "height": 206
        },
        "id": "qJjvG6_ITp5K",
        "outputId": "664172b2-cd44-4fef-dd40-6bce7ab8e76b"
      },
      "execution_count": 15,
      "outputs": [
        {
          "output_type": "execute_result",
          "data": {
            "text/plain": [
              "   Region                   Filial        Tipo Punto de venta %Key_FechaID  \\\n",
              "0       5  Álamo, Veracruz, México  Autotanque    ATQ. ALA 09   2019-09-15   \n",
              "1       5  Álamo, Veracruz, México  Autotanque    ATQ. ALA 08   2019-09-01   \n",
              "2       5  Álamo, Veracruz, México  Autotanque    ATQ. ALA 08   2019-09-02   \n",
              "3       5  Álamo, Veracruz, México  Autotanque    ATQ. ALA 08   2019-09-05   \n",
              "4       5  Álamo, Veracruz, México  Autotanque    ATQ. ALA 08   2019-09-06   \n",
              "\n",
              "       $  Tem_prom  Precio por Litro  \n",
              "0  131.0      24.9          8.187500  \n",
              "1  120.0      24.9          8.000000  \n",
              "2   92.0      24.9          7.666667  \n",
              "3  105.0      24.9          8.076923  \n",
              "4  105.0      24.9          8.076923  "
            ],
            "text/html": [
              "\n",
              "  <div id=\"df-037e7124-bcb5-47df-82d9-50744f017991\">\n",
              "    <div class=\"colab-df-container\">\n",
              "      <div>\n",
              "<style scoped>\n",
              "    .dataframe tbody tr th:only-of-type {\n",
              "        vertical-align: middle;\n",
              "    }\n",
              "\n",
              "    .dataframe tbody tr th {\n",
              "        vertical-align: top;\n",
              "    }\n",
              "\n",
              "    .dataframe thead th {\n",
              "        text-align: right;\n",
              "    }\n",
              "</style>\n",
              "<table border=\"1\" class=\"dataframe\">\n",
              "  <thead>\n",
              "    <tr style=\"text-align: right;\">\n",
              "      <th></th>\n",
              "      <th>Region</th>\n",
              "      <th>Filial</th>\n",
              "      <th>Tipo</th>\n",
              "      <th>Punto de venta</th>\n",
              "      <th>%Key_FechaID</th>\n",
              "      <th>$</th>\n",
              "      <th>Tem_prom</th>\n",
              "      <th>Precio por Litro</th>\n",
              "    </tr>\n",
              "  </thead>\n",
              "  <tbody>\n",
              "    <tr>\n",
              "      <th>0</th>\n",
              "      <td>5</td>\n",
              "      <td>Álamo, Veracruz, México</td>\n",
              "      <td>Autotanque</td>\n",
              "      <td>ATQ. ALA 09</td>\n",
              "      <td>2019-09-15</td>\n",
              "      <td>131.0</td>\n",
              "      <td>24.9</td>\n",
              "      <td>8.187500</td>\n",
              "    </tr>\n",
              "    <tr>\n",
              "      <th>1</th>\n",
              "      <td>5</td>\n",
              "      <td>Álamo, Veracruz, México</td>\n",
              "      <td>Autotanque</td>\n",
              "      <td>ATQ. ALA 08</td>\n",
              "      <td>2019-09-01</td>\n",
              "      <td>120.0</td>\n",
              "      <td>24.9</td>\n",
              "      <td>8.000000</td>\n",
              "    </tr>\n",
              "    <tr>\n",
              "      <th>2</th>\n",
              "      <td>5</td>\n",
              "      <td>Álamo, Veracruz, México</td>\n",
              "      <td>Autotanque</td>\n",
              "      <td>ATQ. ALA 08</td>\n",
              "      <td>2019-09-02</td>\n",
              "      <td>92.0</td>\n",
              "      <td>24.9</td>\n",
              "      <td>7.666667</td>\n",
              "    </tr>\n",
              "    <tr>\n",
              "      <th>3</th>\n",
              "      <td>5</td>\n",
              "      <td>Álamo, Veracruz, México</td>\n",
              "      <td>Autotanque</td>\n",
              "      <td>ATQ. ALA 08</td>\n",
              "      <td>2019-09-05</td>\n",
              "      <td>105.0</td>\n",
              "      <td>24.9</td>\n",
              "      <td>8.076923</td>\n",
              "    </tr>\n",
              "    <tr>\n",
              "      <th>4</th>\n",
              "      <td>5</td>\n",
              "      <td>Álamo, Veracruz, México</td>\n",
              "      <td>Autotanque</td>\n",
              "      <td>ATQ. ALA 08</td>\n",
              "      <td>2019-09-06</td>\n",
              "      <td>105.0</td>\n",
              "      <td>24.9</td>\n",
              "      <td>8.076923</td>\n",
              "    </tr>\n",
              "  </tbody>\n",
              "</table>\n",
              "</div>\n",
              "      <button class=\"colab-df-convert\" onclick=\"convertToInteractive('df-037e7124-bcb5-47df-82d9-50744f017991')\"\n",
              "              title=\"Convert this dataframe to an interactive table.\"\n",
              "              style=\"display:none;\">\n",
              "        \n",
              "  <svg xmlns=\"http://www.w3.org/2000/svg\" height=\"24px\"viewBox=\"0 0 24 24\"\n",
              "       width=\"24px\">\n",
              "    <path d=\"M0 0h24v24H0V0z\" fill=\"none\"/>\n",
              "    <path d=\"M18.56 5.44l.94 2.06.94-2.06 2.06-.94-2.06-.94-.94-2.06-.94 2.06-2.06.94zm-11 1L8.5 8.5l.94-2.06 2.06-.94-2.06-.94L8.5 2.5l-.94 2.06-2.06.94zm10 10l.94 2.06.94-2.06 2.06-.94-2.06-.94-.94-2.06-.94 2.06-2.06.94z\"/><path d=\"M17.41 7.96l-1.37-1.37c-.4-.4-.92-.59-1.43-.59-.52 0-1.04.2-1.43.59L10.3 9.45l-7.72 7.72c-.78.78-.78 2.05 0 2.83L4 21.41c.39.39.9.59 1.41.59.51 0 1.02-.2 1.41-.59l7.78-7.78 2.81-2.81c.8-.78.8-2.07 0-2.86zM5.41 20L4 18.59l7.72-7.72 1.47 1.35L5.41 20z\"/>\n",
              "  </svg>\n",
              "      </button>\n",
              "      \n",
              "  <style>\n",
              "    .colab-df-container {\n",
              "      display:flex;\n",
              "      flex-wrap:wrap;\n",
              "      gap: 12px;\n",
              "    }\n",
              "\n",
              "    .colab-df-convert {\n",
              "      background-color: #E8F0FE;\n",
              "      border: none;\n",
              "      border-radius: 50%;\n",
              "      cursor: pointer;\n",
              "      display: none;\n",
              "      fill: #1967D2;\n",
              "      height: 32px;\n",
              "      padding: 0 0 0 0;\n",
              "      width: 32px;\n",
              "    }\n",
              "\n",
              "    .colab-df-convert:hover {\n",
              "      background-color: #E2EBFA;\n",
              "      box-shadow: 0px 1px 2px rgba(60, 64, 67, 0.3), 0px 1px 3px 1px rgba(60, 64, 67, 0.15);\n",
              "      fill: #174EA6;\n",
              "    }\n",
              "\n",
              "    [theme=dark] .colab-df-convert {\n",
              "      background-color: #3B4455;\n",
              "      fill: #D2E3FC;\n",
              "    }\n",
              "\n",
              "    [theme=dark] .colab-df-convert:hover {\n",
              "      background-color: #434B5C;\n",
              "      box-shadow: 0px 1px 3px 1px rgba(0, 0, 0, 0.15);\n",
              "      filter: drop-shadow(0px 1px 2px rgba(0, 0, 0, 0.3));\n",
              "      fill: #FFFFFF;\n",
              "    }\n",
              "  </style>\n",
              "\n",
              "      <script>\n",
              "        const buttonEl =\n",
              "          document.querySelector('#df-037e7124-bcb5-47df-82d9-50744f017991 button.colab-df-convert');\n",
              "        buttonEl.style.display =\n",
              "          google.colab.kernel.accessAllowed ? 'block' : 'none';\n",
              "\n",
              "        async function convertToInteractive(key) {\n",
              "          const element = document.querySelector('#df-037e7124-bcb5-47df-82d9-50744f017991');\n",
              "          const dataTable =\n",
              "            await google.colab.kernel.invokeFunction('convertToInteractive',\n",
              "                                                     [key], {});\n",
              "          if (!dataTable) return;\n",
              "\n",
              "          const docLinkHtml = 'Like what you see? Visit the ' +\n",
              "            '<a target=\"_blank\" href=https://colab.research.google.com/notebooks/data_table.ipynb>data table notebook</a>'\n",
              "            + ' to learn more about interactive tables.';\n",
              "          element.innerHTML = '';\n",
              "          dataTable['output_type'] = 'display_data';\n",
              "          await google.colab.output.renderOutput(dataTable, element);\n",
              "          const docLink = document.createElement('div');\n",
              "          docLink.innerHTML = docLinkHtml;\n",
              "          element.appendChild(docLink);\n",
              "        }\n",
              "      </script>\n",
              "    </div>\n",
              "  </div>\n",
              "  "
            ]
          },
          "metadata": {},
          "execution_count": 15
        }
      ]
    },
    {
      "cell_type": "code",
      "source": [
        "# Box plot type of gas vs liter price\n",
        "plt.figure(figsize=(8, 7))\n",
        "sns.boxplot(y='Precio por Litro', x='Tipo', data=df)\n",
        "plt.show()"
      ],
      "metadata": {
        "colab": {
          "base_uri": "https://localhost:8080/",
          "height": 444
        },
        "id": "M-jIqccZTrWq",
        "outputId": "aac554f2-5d8a-4504-895c-112ef0372336"
      },
      "execution_count": 16,
      "outputs": [
        {
          "output_type": "display_data",
          "data": {
            "text/plain": [
              "<Figure size 576x504 with 1 Axes>"
            ],
            "image/png": "[encoded data removed]"
          },
          "metadata": {
            "needs_background": "light"
          }
        }
      ]
    },
    {
      "cell_type": "code",
      "source": [
        "# Scatter plot temperature vs liter price\n",
        "plt.figure(figsize=(8, 7))\n",
        "plt.scatter(y='Precio por Litro', x='Tem_prom', data=df)\n",
        "plt.xlabel('Temperatura promedio')\n",
        "plt.ylabel('Precio por Litro')\n",
        "plt.show()"
      ],
      "metadata": {
        "colab": {
          "base_uri": "https://localhost:8080/",
          "height": 444
        },
        "id": "gKmD31dhZvoQ",
        "outputId": "986ff779-cbcb-4011-81c4-3b595f8d7be1"
      },
      "execution_count": 17,
      "outputs": [
        {
          "output_type": "display_data",
          "data": {
            "text/plain": [
              "<Figure size 576x504 with 1 Axes>"
            ],
            "image/png": "[encoded data removed]"
          },
          "metadata": {
            "needs_background": "light"
          }
        }
      ]
    },
    {
      "cell_type": "code",
      "source": [
        "# Box plot location vs liter price\n",
        "plt.figure(figsize=(8, 7))\n",
        "sns.boxplot(y='Precio por Litro', x='Filial', data=df)\n",
        "plt.show()"
      ],
      "metadata": {
        "colab": {
          "base_uri": "https://localhost:8080/",
          "height": 445
        },
        "id": "j2sOaQlKaBMo",
        "outputId": "33652a23-2a9c-4b27-86e4-fa9f54c4ec03"
      },
      "execution_count": 18,
      "outputs": [
        {
          "output_type": "display_data",
          "data": {
            "text/plain": [
              "<Figure size 576x504 with 1 Axes>"
            ],
            "image/png": "[encoded data removed]"
          },
          "metadata": {
            "needs_background": "light"
          }
        }
      ]
    },
    {
      "cell_type": "code",
      "source": [
        "df.head()"
      ],
      "metadata": {
        "colab": {
          "base_uri": "https://localhost:8080/",
          "height": 206
        },
        "id": "3LTVF9lbgD7Y",
        "outputId": "977ec0d1-84ba-4783-cc86-25e101d4372d"
      },
      "execution_count": 19,
      "outputs": [
        {
          "output_type": "execute_result",
          "data": {
            "text/plain": [
              "   Region                   Filial        Tipo Punto de venta %Key_FechaID  \\\n",
              "0       5  Álamo, Veracruz, México  Autotanque    ATQ. ALA 09   2019-09-15   \n",
              "1       5  Álamo, Veracruz, México  Autotanque    ATQ. ALA 08   2019-09-01   \n",
              "2       5  Álamo, Veracruz, México  Autotanque    ATQ. ALA 08   2019-09-02   \n",
              "3       5  Álamo, Veracruz, México  Autotanque    ATQ. ALA 08   2019-09-05   \n",
              "4       5  Álamo, Veracruz, México  Autotanque    ATQ. ALA 08   2019-09-06   \n",
              "\n",
              "       $  Tem_prom  Precio por Litro  \n",
              "0  131.0      24.9          8.187500  \n",
              "1  120.0      24.9          8.000000  \n",
              "2   92.0      24.9          7.666667  \n",
              "3  105.0      24.9          8.076923  \n",
              "4  105.0      24.9          8.076923  "
            ],
            "text/html": [
              "\n",
              "  <div id=\"df-a6e28136-a45f-4969-b600-bb9bf36661f5\">\n",
              "    <div class=\"colab-df-container\">\n",
              "      <div>\n",
              "<style scoped>\n",
              "    .dataframe tbody tr th:only-of-type {\n",
              "        vertical-align: middle;\n",
              "    }\n",
              "\n",
              "    .dataframe tbody tr th {\n",
              "        vertical-align: top;\n",
              "    }\n",
              "\n",
              "    .dataframe thead th {\n",
              "        text-align: right;\n",
              "    }\n",
              "</style>\n",
              "<table border=\"1\" class=\"dataframe\">\n",
              "  <thead>\n",
              "    <tr style=\"text-align: right;\">\n",
              "      <th></th>\n",
              "      <th>Region</th>\n",
              "      <th>Filial</th>\n",
              "      <th>Tipo</th>\n",
              "      <th>Punto de venta</th>\n",
              "      <th>%Key_FechaID</th>\n",
              "      <th>$</th>\n",
              "      <th>Tem_prom</th>\n",
              "      <th>Precio por Litro</th>\n",
              "    </tr>\n",
              "  </thead>\n",
              "  <tbody>\n",
              "    <tr>\n",
              "      <th>0</th>\n",
              "      <td>5</td>\n",
              "      <td>Álamo, Veracruz, México</td>\n",
              "      <td>Autotanque</td>\n",
              "      <td>ATQ. ALA 09</td>\n",
              "      <td>2019-09-15</td>\n",
              "      <td>131.0</td>\n",
              "      <td>24.9</td>\n",
              "      <td>8.187500</td>\n",
              "    </tr>\n",
              "    <tr>\n",
              "      <th>1</th>\n",
              "      <td>5</td>\n",
              "      <td>Álamo, Veracruz, México</td>\n",
              "      <td>Autotanque</td>\n",
              "      <td>ATQ. ALA 08</td>\n",
              "      <td>2019-09-01</td>\n",
              "      <td>120.0</td>\n",
              "      <td>24.9</td>\n",
              "      <td>8.000000</td>\n",
              "    </tr>\n",
              "    <tr>\n",
              "      <th>2</th>\n",
              "      <td>5</td>\n",
              "      <td>Álamo, Veracruz, México</td>\n",
              "      <td>Autotanque</td>\n",
              "      <td>ATQ. ALA 08</td>\n",
              "      <td>2019-09-02</td>\n",
              "      <td>92.0</td>\n",
              "      <td>24.9</td>\n",
              "      <td>7.666667</td>\n",
              "    </tr>\n",
              "    <tr>\n",
              "      <th>3</th>\n",
              "      <td>5</td>\n",
              "      <td>Álamo, Veracruz, México</td>\n",
              "      <td>Autotanque</td>\n",
              "      <td>ATQ. ALA 08</td>\n",
              "      <td>2019-09-05</td>\n",
              "      <td>105.0</td>\n",
              "      <td>24.9</td>\n",
              "      <td>8.076923</td>\n",
              "    </tr>\n",
              "    <tr>\n",
              "      <th>4</th>\n",
              "      <td>5</td>\n",
              "      <td>Álamo, Veracruz, México</td>\n",
              "      <td>Autotanque</td>\n",
              "      <td>ATQ. ALA 08</td>\n",
              "      <td>2019-09-06</td>\n",
              "      <td>105.0</td>\n",
              "      <td>24.9</td>\n",
              "      <td>8.076923</td>\n",
              "    </tr>\n",
              "  </tbody>\n",
              "</table>\n",
              "</div>\n",
              "      <button class=\"colab-df-convert\" onclick=\"convertToInteractive('df-a6e28136-a45f-4969-b600-bb9bf36661f5')\"\n",
              "              title=\"Convert this dataframe to an interactive table.\"\n",
              "              style=\"display:none;\">\n",
              "        \n",
              "  <svg xmlns=\"http://www.w3.org/2000/svg\" height=\"24px\"viewBox=\"0 0 24 24\"\n",
              "       width=\"24px\">\n",
              "    <path d=\"M0 0h24v24H0V0z\" fill=\"none\"/>\n",
              "    <path d=\"M18.56 5.44l.94 2.06.94-2.06 2.06-.94-2.06-.94-.94-2.06-.94 2.06-2.06.94zm-11 1L8.5 8.5l.94-2.06 2.06-.94-2.06-.94L8.5 2.5l-.94 2.06-2.06.94zm10 10l.94 2.06.94-2.06 2.06-.94-2.06-.94-.94-2.06-.94 2.06-2.06.94z\"/><path d=\"M17.41 7.96l-1.37-1.37c-.4-.4-.92-.59-1.43-.59-.52 0-1.04.2-1.43.59L10.3 9.45l-7.72 7.72c-.78.78-.78 2.05 0 2.83L4 21.41c.39.39.9.59 1.41.59.51 0 1.02-.2 1.41-.59l7.78-7.78 2.81-2.81c.8-.78.8-2.07 0-2.86zM5.41 20L4 18.59l7.72-7.72 1.47 1.35L5.41 20z\"/>\n",
              "  </svg>\n",
              "      </button>\n",
              "      \n",
              "  <style>\n",
              "    .colab-df-container {\n",
              "      display:flex;\n",
              "      flex-wrap:wrap;\n",
              "      gap: 12px;\n",
              "    }\n",
              "\n",
              "    .colab-df-convert {\n",
              "      background-color: #E8F0FE;\n",
              "      border: none;\n",
              "      border-radius: 50%;\n",
              "      cursor: pointer;\n",
              "      display: none;\n",
              "      fill: #1967D2;\n",
              "      height: 32px;\n",
              "      padding: 0 0 0 0;\n",
              "      width: 32px;\n",
              "    }\n",
              "\n",
              "    .colab-df-convert:hover {\n",
              "      background-color: #E2EBFA;\n",
              "      box-shadow: 0px 1px 2px rgba(60, 64, 67, 0.3), 0px 1px 3px 1px rgba(60, 64, 67, 0.15);\n",
              "      fill: #174EA6;\n",
              "    }\n",
              "\n",
              "    [theme=dark] .colab-df-convert {\n",
              "      background-color: #3B4455;\n",
              "      fill: #D2E3FC;\n",
              "    }\n",
              "\n",
              "    [theme=dark] .colab-df-convert:hover {\n",
              "      background-color: #434B5C;\n",
              "      box-shadow: 0px 1px 3px 1px rgba(0, 0, 0, 0.15);\n",
              "      filter: drop-shadow(0px 1px 2px rgba(0, 0, 0, 0.3));\n",
              "      fill: #FFFFFF;\n",
              "    }\n",
              "  </style>\n",
              "\n",
              "      <script>\n",
              "        const buttonEl =\n",
              "          document.querySelector('#df-a6e28136-a45f-4969-b600-bb9bf36661f5 button.colab-df-convert');\n",
              "        buttonEl.style.display =\n",
              "          google.colab.kernel.accessAllowed ? 'block' : 'none';\n",
              "\n",
              "        async function convertToInteractive(key) {\n",
              "          const element = document.querySelector('#df-a6e28136-a45f-4969-b600-bb9bf36661f5');\n",
              "          const dataTable =\n",
              "            await google.colab.kernel.invokeFunction('convertToInteractive',\n",
              "                                                     [key], {});\n",
              "          if (!dataTable) return;\n",
              "\n",
              "          const docLinkHtml = 'Like what you see? Visit the ' +\n",
              "            '<a target=\"_blank\" href=https://colab.research.google.com/notebooks/data_table.ipynb>data table notebook</a>'\n",
              "            + ' to learn more about interactive tables.';\n",
              "          element.innerHTML = '';\n",
              "          dataTable['output_type'] = 'display_data';\n",
              "          await google.colab.output.renderOutput(dataTable, element);\n",
              "          const docLink = document.createElement('div');\n",
              "          docLink.innerHTML = docLinkHtml;\n",
              "          element.appendChild(docLink);\n",
              "        }\n",
              "      </script>\n",
              "    </div>\n",
              "  </div>\n",
              "  "
            ]
          },
          "metadata": {},
          "execution_count": 19
        }
      ]
    },
    {
      "cell_type": "code",
      "source": [
        "df1=df[['Filial','Tipo','%Key_FechaID','$','Tem_prom','Precio por Litro']]\n",
        "df1=df1.dropna(axis=0)\n",
        "df1.tail()"
      ],
      "metadata": {
        "colab": {
          "base_uri": "https://localhost:8080/",
          "height": 206
        },
        "id": "JE4cyMzahTk5",
        "outputId": "d88a3794-202e-4c69-db4b-5c1935b95504"
      },
      "execution_count": 20,
      "outputs": [
        {
          "output_type": "execute_result",
          "data": {
            "text/plain": [
              "                              Filial        Tipo %Key_FechaID      $  \\\n",
              "12866311  Saltillo, Coahuila, México  Autotanque   2021-01-28   29.0   \n",
              "12866312  Saltillo, Coahuila, México  Autotanque   2021-01-28   66.0   \n",
              "12866313  Saltillo, Coahuila, México  Autotanque   2021-01-28   46.0   \n",
              "12866314  Saltillo, Coahuila, México  Autotanque   2021-01-28   21.0   \n",
              "12866315  Saltillo, Coahuila, México  Autotanque   2021-01-30  940.0   \n",
              "\n",
              "          Tem_prom  Precio por Litro  \n",
              "12866311      13.5          9.666667  \n",
              "12866312      13.5          9.428571  \n",
              "12866313      13.5          9.200000  \n",
              "12866314      13.5         10.500000  \n",
              "12866315      13.5          8.952381  "
            ],
            "text/html": [
              "\n",
              "  <div id=\"df-3b13b4f1-1e9b-4443-a20b-a4d23da5255a\">\n",
              "    <div class=\"colab-df-container\">\n",
              "      <div>\n",
              "<style scoped>\n",
              "    .dataframe tbody tr th:only-of-type {\n",
              "        vertical-align: middle;\n",
              "    }\n",
              "\n",
              "    .dataframe tbody tr th {\n",
              "        vertical-align: top;\n",
              "    }\n",
              "\n",
              "    .dataframe thead th {\n",
              "        text-align: right;\n",
              "    }\n",
              "</style>\n",
              "<table border=\"1\" class=\"dataframe\">\n",
              "  <thead>\n",
              "    <tr style=\"text-align: right;\">\n",
              "      <th></th>\n",
              "      <th>Filial</th>\n",
              "      <th>Tipo</th>\n",
              "      <th>%Key_FechaID</th>\n",
              "      <th>$</th>\n",
              "      <th>Tem_prom</th>\n",
              "      <th>Precio por Litro</th>\n",
              "    </tr>\n",
              "  </thead>\n",
              "  <tbody>\n",
              "    <tr>\n",
              "      <th>12866311</th>\n",
              "      <td>Saltillo, Coahuila, México</td>\n",
              "      <td>Autotanque</td>\n",
              "      <td>2021-01-28</td>\n",
              "      <td>29.0</td>\n",
              "      <td>13.5</td>\n",
              "      <td>9.666667</td>\n",
              "    </tr>\n",
              "    <tr>\n",
              "      <th>12866312</th>\n",
              "      <td>Saltillo, Coahuila, México</td>\n",
              "      <td>Autotanque</td>\n",
              "      <td>2021-01-28</td>\n",
              "      <td>66.0</td>\n",
              "      <td>13.5</td>\n",
              "      <td>9.428571</td>\n",
              "    </tr>\n",
              "    <tr>\n",
              "      <th>12866313</th>\n",
              "      <td>Saltillo, Coahuila, México</td>\n",
              "      <td>Autotanque</td>\n",
              "      <td>2021-01-28</td>\n",
              "      <td>46.0</td>\n",
              "      <td>13.5</td>\n",
              "      <td>9.200000</td>\n",
              "    </tr>\n",
              "    <tr>\n",
              "      <th>12866314</th>\n",
              "      <td>Saltillo, Coahuila, México</td>\n",
              "      <td>Autotanque</td>\n",
              "      <td>2021-01-28</td>\n",
              "      <td>21.0</td>\n",
              "      <td>13.5</td>\n",
              "      <td>10.500000</td>\n",
              "    </tr>\n",
              "    <tr>\n",
              "      <th>12866315</th>\n",
              "      <td>Saltillo, Coahuila, México</td>\n",
              "      <td>Autotanque</td>\n",
              "      <td>2021-01-30</td>\n",
              "      <td>940.0</td>\n",
              "      <td>13.5</td>\n",
              "      <td>8.952381</td>\n",
              "    </tr>\n",
              "  </tbody>\n",
              "</table>\n",
              "</div>\n",
              "      <button class=\"colab-df-convert\" onclick=\"convertToInteractive('df-3b13b4f1-1e9b-4443-a20b-a4d23da5255a')\"\n",
              "              title=\"Convert this dataframe to an interactive table.\"\n",
              "              style=\"display:none;\">\n",
              "        \n",
              "  <svg xmlns=\"http://www.w3.org/2000/svg\" height=\"24px\"viewBox=\"0 0 24 24\"\n",
              "       width=\"24px\">\n",
              "    <path d=\"M0 0h24v24H0V0z\" fill=\"none\"/>\n",
              "    <path d=\"M18.56 5.44l.94 2.06.94-2.06 2.06-.94-2.06-.94-.94-2.06-.94 2.06-2.06.94zm-11 1L8.5 8.5l.94-2.06 2.06-.94-2.06-.94L8.5 2.5l-.94 2.06-2.06.94zm10 10l.94 2.06.94-2.06 2.06-.94-2.06-.94-.94-2.06-.94 2.06-2.06.94z\"/><path d=\"M17.41 7.96l-1.37-1.37c-.4-.4-.92-.59-1.43-.59-.52 0-1.04.2-1.43.59L10.3 9.45l-7.72 7.72c-.78.78-.78 2.05 0 2.83L4 21.41c.39.39.9.59 1.41.59.51 0 1.02-.2 1.41-.59l7.78-7.78 2.81-2.81c.8-.78.8-2.07 0-2.86zM5.41 20L4 18.59l7.72-7.72 1.47 1.35L5.41 20z\"/>\n",
              "  </svg>\n",
              "      </button>\n",
              "      \n",
              "  <style>\n",
              "    .colab-df-container {\n",
              "      display:flex;\n",
              "      flex-wrap:wrap;\n",
              "      gap: 12px;\n",
              "    }\n",
              "\n",
              "    .colab-df-convert {\n",
              "      background-color: #E8F0FE;\n",
              "      border: none;\n",
              "      border-radius: 50%;\n",
              "      cursor: pointer;\n",
              "      display: none;\n",
              "      fill: #1967D2;\n",
              "      height: 32px;\n",
              "      padding: 0 0 0 0;\n",
              "      width: 32px;\n",
              "    }\n",
              "\n",
              "    .colab-df-convert:hover {\n",
              "      background-color: #E2EBFA;\n",
              "      box-shadow: 0px 1px 2px rgba(60, 64, 67, 0.3), 0px 1px 3px 1px rgba(60, 64, 67, 0.15);\n",
              "      fill: #174EA6;\n",
              "    }\n",
              "\n",
              "    [theme=dark] .colab-df-convert {\n",
              "      background-color: #3B4455;\n",
              "      fill: #D2E3FC;\n",
              "    }\n",
              "\n",
              "    [theme=dark] .colab-df-convert:hover {\n",
              "      background-color: #434B5C;\n",
              "      box-shadow: 0px 1px 3px 1px rgba(0, 0, 0, 0.15);\n",
              "      filter: drop-shadow(0px 1px 2px rgba(0, 0, 0, 0.3));\n",
              "      fill: #FFFFFF;\n",
              "    }\n",
              "  </style>\n",
              "\n",
              "      <script>\n",
              "        const buttonEl =\n",
              "          document.querySelector('#df-3b13b4f1-1e9b-4443-a20b-a4d23da5255a button.colab-df-convert');\n",
              "        buttonEl.style.display =\n",
              "          google.colab.kernel.accessAllowed ? 'block' : 'none';\n",
              "\n",
              "        async function convertToInteractive(key) {\n",
              "          const element = document.querySelector('#df-3b13b4f1-1e9b-4443-a20b-a4d23da5255a');\n",
              "          const dataTable =\n",
              "            await google.colab.kernel.invokeFunction('convertToInteractive',\n",
              "                                                     [key], {});\n",
              "          if (!dataTable) return;\n",
              "\n",
              "          const docLinkHtml = 'Like what you see? Visit the ' +\n",
              "            '<a target=\"_blank\" href=https://colab.research.google.com/notebooks/data_table.ipynb>data table notebook</a>'\n",
              "            + ' to learn more about interactive tables.';\n",
              "          element.innerHTML = '';\n",
              "          dataTable['output_type'] = 'display_data';\n",
              "          await google.colab.output.renderOutput(dataTable, element);\n",
              "          const docLink = document.createElement('div');\n",
              "          docLink.innerHTML = docLinkHtml;\n",
              "          element.appendChild(docLink);\n",
              "        }\n",
              "      </script>\n",
              "    </div>\n",
              "  </div>\n",
              "  "
            ]
          },
          "metadata": {},
          "execution_count": 20
        }
      ]
    },
    {
      "cell_type": "code",
      "source": [
        "df1['Precio por Litro'].describe()"
      ],
      "metadata": {
        "colab": {
          "base_uri": "https://localhost:8080/"
        },
        "id": "1gGVPG6umgwR",
        "outputId": "6d30ee31-e1c5-4a96-cf27-86724635c4b0"
      },
      "execution_count": 21,
      "outputs": [
        {
          "output_type": "execute_result",
          "data": {
            "text/plain": [
              "count    1.260390e+07\n",
              "mean     1.027130e+01\n",
              "std      2.184697e+00\n",
              "min      7.272727e-01\n",
              "25%      8.666667e+00\n",
              "50%      1.000000e+01\n",
              "75%      1.200000e+01\n",
              "max      2.400000e+01\n",
              "Name: Precio por Litro, dtype: float64"
            ]
          },
          "metadata": {},
          "execution_count": 21
        }
      ]
    },
    {
      "cell_type": "markdown",
      "source": [
        "## Prepare df export"
      ],
      "metadata": {
        "id": "0Tqvx-uZEoTx"
      }
    },
    {
      "cell_type": "code",
      "source": [
        "df2=pd.pivot_table(df1,\n",
        "   index=['Filial','%Key_FechaID','Tipo'],\n",
        "   aggfunc={'Precio por Litro': np.mean,'$': np.sum,'Tem_prom':np.max})"
      ],
      "metadata": {
        "id": "DCgeRn0Mbz7z"
      },
      "execution_count": 22,
      "outputs": []
    },
    {
      "cell_type": "code",
      "source": [
        "df2.tail()"
      ],
      "metadata": {
        "colab": {
          "base_uri": "https://localhost:8080/",
          "height": 238
        },
        "id": "KsTg6KSSbz3f",
        "outputId": "5d9636ba-f8fe-4e1d-ba98-a5b6a3caa2b2"
      },
      "execution_count": 23,
      "outputs": [
        {
          "output_type": "execute_result",
          "data": {
            "text/plain": [
              "                                                       $  Precio por Litro  \\\n",
              "Filial                  %Key_FechaID Tipo                                    \n",
              "Álamo, Veracruz, México 2021-12-27   Autotanque  57032.0         12.654483   \n",
              "                        2021-12-28   Autotanque  53717.0         12.742470   \n",
              "                        2021-12-29   Autotanque  46970.0         12.734889   \n",
              "                        2021-12-30   Autotanque  53353.0         12.724375   \n",
              "                        2021-12-31   Autotanque  64806.0         12.699153   \n",
              "\n",
              "                                                 Tem_prom  \n",
              "Filial                  %Key_FechaID Tipo                  \n",
              "Álamo, Veracruz, México 2021-12-27   Autotanque      21.2  \n",
              "                        2021-12-28   Autotanque      21.2  \n",
              "                        2021-12-29   Autotanque      21.2  \n",
              "                        2021-12-30   Autotanque      21.2  \n",
              "                        2021-12-31   Autotanque      21.2  "
            ],
            "text/html": [
              "\n",
              "  <div id=\"df-cc9cbc9e-5dd3-49c9-9f49-b19a6ba7ead1\">\n",
              "    <div class=\"colab-df-container\">\n",
              "      <div>\n",
              "<style scoped>\n",
              "    .dataframe tbody tr th:only-of-type {\n",
              "        vertical-align: middle;\n",
              "    }\n",
              "\n",
              "    .dataframe tbody tr th {\n",
              "        vertical-align: top;\n",
              "    }\n",
              "\n",
              "    .dataframe thead th {\n",
              "        text-align: right;\n",
              "    }\n",
              "</style>\n",
              "<table border=\"1\" class=\"dataframe\">\n",
              "  <thead>\n",
              "    <tr style=\"text-align: right;\">\n",
              "      <th></th>\n",
              "      <th></th>\n",
              "      <th></th>\n",
              "      <th>$</th>\n",
              "      <th>Precio por Litro</th>\n",
              "      <th>Tem_prom</th>\n",
              "    </tr>\n",
              "    <tr>\n",
              "      <th>Filial</th>\n",
              "      <th>%Key_FechaID</th>\n",
              "      <th>Tipo</th>\n",
              "      <th></th>\n",
              "      <th></th>\n",
              "      <th></th>\n",
              "    </tr>\n",
              "  </thead>\n",
              "  <tbody>\n",
              "    <tr>\n",
              "      <th rowspan=\"5\" valign=\"top\">Álamo, Veracruz, México</th>\n",
              "      <th>2021-12-27</th>\n",
              "      <th>Autotanque</th>\n",
              "      <td>57032.0</td>\n",
              "      <td>12.654483</td>\n",
              "      <td>21.2</td>\n",
              "    </tr>\n",
              "    <tr>\n",
              "      <th>2021-12-28</th>\n",
              "      <th>Autotanque</th>\n",
              "      <td>53717.0</td>\n",
              "      <td>12.742470</td>\n",
              "      <td>21.2</td>\n",
              "    </tr>\n",
              "    <tr>\n",
              "      <th>2021-12-29</th>\n",
              "      <th>Autotanque</th>\n",
              "      <td>46970.0</td>\n",
              "      <td>12.734889</td>\n",
              "      <td>21.2</td>\n",
              "    </tr>\n",
              "    <tr>\n",
              "      <th>2021-12-30</th>\n",
              "      <th>Autotanque</th>\n",
              "      <td>53353.0</td>\n",
              "      <td>12.724375</td>\n",
              "      <td>21.2</td>\n",
              "    </tr>\n",
              "    <tr>\n",
              "      <th>2021-12-31</th>\n",
              "      <th>Autotanque</th>\n",
              "      <td>64806.0</td>\n",
              "      <td>12.699153</td>\n",
              "      <td>21.2</td>\n",
              "    </tr>\n",
              "  </tbody>\n",
              "</table>\n",
              "</div>\n",
              "      <button class=\"colab-df-convert\" onclick=\"convertToInteractive('df-cc9cbc9e-5dd3-49c9-9f49-b19a6ba7ead1')\"\n",
              "              title=\"Convert this dataframe to an interactive table.\"\n",
              "              style=\"display:none;\">\n",
              "        \n",
              "  <svg xmlns=\"http://www.w3.org/2000/svg\" height=\"24px\"viewBox=\"0 0 24 24\"\n",
              "       width=\"24px\">\n",
              "    <path d=\"M0 0h24v24H0V0z\" fill=\"none\"/>\n",
              "    <path d=\"M18.56 5.44l.94 2.06.94-2.06 2.06-.94-2.06-.94-.94-2.06-.94 2.06-2.06.94zm-11 1L8.5 8.5l.94-2.06 2.06-.94-2.06-.94L8.5 2.5l-.94 2.06-2.06.94zm10 10l.94 2.06.94-2.06 2.06-.94-2.06-.94-.94-2.06-.94 2.06-2.06.94z\"/><path d=\"M17.41 7.96l-1.37-1.37c-.4-.4-.92-.59-1.43-.59-.52 0-1.04.2-1.43.59L10.3 9.45l-7.72 7.72c-.78.78-.78 2.05 0 2.83L4 21.41c.39.39.9.59 1.41.59.51 0 1.02-.2 1.41-.59l7.78-7.78 2.81-2.81c.8-.78.8-2.07 0-2.86zM5.41 20L4 18.59l7.72-7.72 1.47 1.35L5.41 20z\"/>\n",
              "  </svg>\n",
              "      </button>\n",
              "      \n",
              "  <style>\n",
              "    .colab-df-container {\n",
              "      display:flex;\n",
              "      flex-wrap:wrap;\n",
              "      gap: 12px;\n",
              "    }\n",
              "\n",
              "    .colab-df-convert {\n",
              "      background-color: #E8F0FE;\n",
              "      border: none;\n",
              "      border-radius: 50%;\n",
              "      cursor: pointer;\n",
              "      display: none;\n",
              "      fill: #1967D2;\n",
              "      height: 32px;\n",
              "      padding: 0 0 0 0;\n",
              "      width: 32px;\n",
              "    }\n",
              "\n",
              "    .colab-df-convert:hover {\n",
              "      background-color: #E2EBFA;\n",
              "      box-shadow: 0px 1px 2px rgba(60, 64, 67, 0.3), 0px 1px 3px 1px rgba(60, 64, 67, 0.15);\n",
              "      fill: #174EA6;\n",
              "    }\n",
              "\n",
              "    [theme=dark] .colab-df-convert {\n",
              "      background-color: #3B4455;\n",
              "      fill: #D2E3FC;\n",
              "    }\n",
              "\n",
              "    [theme=dark] .colab-df-convert:hover {\n",
              "      background-color: #434B5C;\n",
              "      box-shadow: 0px 1px 3px 1px rgba(0, 0, 0, 0.15);\n",
              "      filter: drop-shadow(0px 1px 2px rgba(0, 0, 0, 0.3));\n",
              "      fill: #FFFFFF;\n",
              "    }\n",
              "  </style>\n",
              "\n",
              "      <script>\n",
              "        const buttonEl =\n",
              "          document.querySelector('#df-cc9cbc9e-5dd3-49c9-9f49-b19a6ba7ead1 button.colab-df-convert');\n",
              "        buttonEl.style.display =\n",
              "          google.colab.kernel.accessAllowed ? 'block' : 'none';\n",
              "\n",
              "        async function convertToInteractive(key) {\n",
              "          const element = document.querySelector('#df-cc9cbc9e-5dd3-49c9-9f49-b19a6ba7ead1');\n",
              "          const dataTable =\n",
              "            await google.colab.kernel.invokeFunction('convertToInteractive',\n",
              "                                                     [key], {});\n",
              "          if (!dataTable) return;\n",
              "\n",
              "          const docLinkHtml = 'Like what you see? Visit the ' +\n",
              "            '<a target=\"_blank\" href=https://colab.research.google.com/notebooks/data_table.ipynb>data table notebook</a>'\n",
              "            + ' to learn more about interactive tables.';\n",
              "          element.innerHTML = '';\n",
              "          dataTable['output_type'] = 'display_data';\n",
              "          await google.colab.output.renderOutput(dataTable, element);\n",
              "          const docLink = document.createElement('div');\n",
              "          docLink.innerHTML = docLinkHtml;\n",
              "          element.appendChild(docLink);\n",
              "        }\n",
              "      </script>\n",
              "    </div>\n",
              "  </div>\n",
              "  "
            ]
          },
          "metadata": {},
          "execution_count": 23
        }
      ]
    },
    {
      "cell_type": "code",
      "source": [
        "df2.shape"
      ],
      "metadata": {
        "colab": {
          "base_uri": "https://localhost:8080/"
        },
        "id": "NJCY9UWmbzzj",
        "outputId": "624073b7-7654-4ade-b121-93e6094471f2"
      },
      "execution_count": 24,
      "outputs": [
        {
          "output_type": "execute_result",
          "data": {
            "text/plain": [
              "(43766, 3)"
            ]
          },
          "metadata": {},
          "execution_count": 24
        }
      ]
    },
    {
      "cell_type": "code",
      "source": [
        "# Export dataframe\n",
        "df2.to_csv('Datos_Agrupados.csv')"
      ],
      "metadata": {
        "id": "a6Ip4UatbzwE"
      },
      "execution_count": null,
      "outputs": []
    }
  ]
}